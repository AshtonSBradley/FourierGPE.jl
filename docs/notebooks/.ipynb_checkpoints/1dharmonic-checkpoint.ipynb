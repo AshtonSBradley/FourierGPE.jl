{
 "cells": [
  {
   "cell_type": "markdown",
   "metadata": {},
   "source": [
    "# Solve the GPE in a 1D parabolic trap\n",
    "### Ashton Bradley\n",
    "\n",
    "In this simple example we find a ground state of the Gross-Pitaevskii equation\n",
    "in a harmonic trap.\n",
    "\n",
    "The mean field order parameter evolves according to\n",
    "$$\n",
    "i\\hbar\\frac{\\partial \\psi(x,t)}{\\partial t}=\\left(-\\frac{\\hbar^2\\partial_x^2}{2m}+V(x,t)+g|\\psi(x,t)|^2\\right)\\psi(x,t)\n",
    "$$\n",
    "\n",
    "First, we load some useful packages."
   ]
  },
  {
   "cell_type": "code",
   "execution_count": 1,
   "metadata": {},
   "outputs": [],
   "source": [
    "using Plots, LaTeXStrings, Pkg, Revise\n",
    "gr(legend=false,titlefontsize=12,size=(500,300),transpose=true,colorbar=false);"
   ]
  },
  {
   "cell_type": "markdown",
   "metadata": {},
   "source": [
    "Now load `FourierGPE`"
   ]
  },
  {
   "cell_type": "code",
   "execution_count": null,
   "metadata": {},
   "outputs": [],
   "source": [
    "using FourierGPE"
   ]
  },
  {
   "cell_type": "markdown",
   "metadata": {},
   "source": [
    "Let's define a convenient plot function"
   ]
  },
  {
   "cell_type": "code",
   "execution_count": null,
   "metadata": {},
   "outputs": [],
   "source": [
    "function showpsi(x,ψ)\n",
    "    p1 = plot(x,abs2.(ψ))\n",
    "    xlabel!(L\"x/a_x\");ylabel!(L\"|\\psi|^2\")\n",
    "    p2 = plot(x,angle.(ψ))\n",
    "    xlabel!(L\"x/a_x\");ylabel!(L\"\\textrm{phase}(\\psi)\")\n",
    "    p = plot(p1,p2,layout=(2,1),size=(600,400))\n",
    "    return p\n",
    "end"
   ]
  },
  {
   "cell_type": "markdown",
   "metadata": {},
   "source": [
    "## User parameters\n",
    "We reserve a place for user parameters."
   ]
  },
  {
   "cell_type": "code",
   "execution_count": null,
   "metadata": {},
   "outputs": [],
   "source": [
    "@with_kw mutable struct Params <: UserParams @deftype Float64\n",
    "    # user parameters:\n",
    "    κ = 0.1\n",
    "end\n",
    "par = Params();"
   ]
  },
  {
   "cell_type": "markdown",
   "metadata": {},
   "source": [
    "Let's set the system size, and number of spatial points"
   ]
  },
  {
   "cell_type": "code",
   "execution_count": null,
   "metadata": {},
   "outputs": [],
   "source": [
    "L = (20.0,)\n",
    "N = (128,)\n",
    "X,K,dX,dK,DX,DK,T = maketransforms(L,N)\n",
    "espec = 0.5*k2(L...,N...);"
   ]
  },
  {
   "cell_type": "markdown",
   "metadata": {},
   "source": [
    "Now we need to initialize the simulation object and the transforms"
   ]
  },
  {
   "cell_type": "code",
   "execution_count": null,
   "metadata": {},
   "outputs": [],
   "source": [
    "sim = Sim(L,N,par)\n",
    "@pack! sim = T,X,K,espec\n",
    "initsim!(sim)\n",
    "@unpack_Sim sim;"
   ]
  },
  {
   "cell_type": "markdown",
   "metadata": {},
   "source": [
    "## Declaring the potential\n",
    "Let's define the trapping potential."
   ]
  },
  {
   "cell_type": "code",
   "execution_count": null,
   "metadata": {},
   "outputs": [],
   "source": [
    "import FourierGPE.V\n",
    "V(x,t) = 0.5*x^2"
   ]
  },
  {
   "cell_type": "markdown",
   "metadata": {},
   "source": [
    "We only require that it is a scalar function\n",
    "because alter we will evaluate it using a broadcasted dot-call.\n",
    "\n",
    "## Initial condition\n",
    "Let's define a useful Thomas-Fermi wavefunction"
   ]
  },
  {
   "cell_type": "code",
   "execution_count": null,
   "metadata": {},
   "outputs": [],
   "source": [
    "ψ0(x,μ,g) = sqrt(μ/g)*sqrt(max(1.0-V(x,0.0)/μ,0.0)+im*0.0)\n",
    "x = X[1];"
   ]
  },
  {
   "cell_type": "markdown",
   "metadata": {},
   "source": [
    "The initial state is now created as"
   ]
  },
  {
   "cell_type": "code",
   "execution_count": null,
   "metadata": {},
   "outputs": [],
   "source": [
    "ψi = ψ0.(x,μ,g)\n",
    "ψi .+= (randn(N...) |> complex)\n",
    "ϕi = kspace(ψi,sim)\n",
    "@pack! sim = ϕi;"
   ]
  },
  {
   "cell_type": "markdown",
   "metadata": {},
   "source": [
    "## Evolution in k-space\n",
    "The `FFTW` library is used to evolve the Gross-Pitaevskii equation in k-space"
   ]
  },
  {
   "cell_type": "code",
   "execution_count": null,
   "metadata": {},
   "outputs": [],
   "source": [
    "sol = runsim(sim.ϕi,sim);"
   ]
  },
  {
   "cell_type": "markdown",
   "metadata": {},
   "source": [
    "Here we save the entire solution as a single variable `sol`.\n",
    "\n",
    "Let's have a look at the final state and verify we have a ground state"
   ]
  },
  {
   "cell_type": "code",
   "execution_count": null,
   "metadata": {},
   "outputs": [],
   "source": [
    "ϕg = sol[end]\n",
    "ψg = xspace(ϕg,sim)\n",
    "showpsi(x,ψg)"
   ]
  },
  {
   "cell_type": "markdown",
   "metadata": {},
   "source": [
    "# Imprinting a dark soliton\n",
    "We found a ground state by imaginary time propagation.\n",
    "Now we can impose phase and density imprint a dark soliton."
   ]
  }
 ],
 "metadata": {
  "kernelspec": {
   "display_name": "Julia 1.1.0",
   "language": "julia",
   "name": "julia-1.1"
  },
  "language_info": {
   "file_extension": ".jl",
   "mimetype": "application/julia",
   "name": "julia",
   "version": "1.1.0"
  }
 },
 "nbformat": 4,
 "nbformat_minor": 2
}
