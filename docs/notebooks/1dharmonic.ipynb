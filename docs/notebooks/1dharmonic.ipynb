{
  "cells": [
    {
      "cell_type": "markdown",
      "source": [
        "# Solve the GPE in a 1D parabolic trap\n### Ashton Bradley\n\n# Introduction\nIn this simple example we find a ground state of the Gross-Pitaevskii equation\nin a harmonic trap.\n\nThe mean field order parameter evolves according to\n$$\ni\\hbar\\frac{\\partial \\psi(x,t)}{\\partial t}=\\left(-\\frac{\\hbar^2\\partial_x^2}{2m}+V(x,t)+g|\\psi(x,t)|^2\\right)\\psi(x,t)\n$$\n\n# Loading the package\nFirst, we load some useful packages."
      ],
      "metadata": {}
    },
    {
      "outputs": [],
      "cell_type": "code",
      "source": [
        "using Plots, LaTeXStrings, Pkg, Revise\ngr(legend=false,titlefontsize=12,size=(500,300),transpose=true,colorbar=false);"
      ],
      "metadata": {},
      "execution_count": null
    },
    {
      "cell_type": "markdown",
      "source": [
        "Now load `FourierGPE`"
      ],
      "metadata": {}
    },
    {
      "outputs": [],
      "cell_type": "code",
      "source": [
        "using FourierGPE"
      ],
      "metadata": {},
      "execution_count": null
    },
    {
      "cell_type": "markdown",
      "source": [
        "Let's define a convenient plot function"
      ],
      "metadata": {}
    },
    {
      "outputs": [],
      "cell_type": "code",
      "source": [
        "function showpsi(x,ψ)\n    p1 = plot(x,abs2.(ψ))\n    xlabel!(L\"x/a_x\");ylabel!(L\"|\\psi|^2\")\n    p2 = plot(x,angle.(ψ))\n    xlabel!(L\"x/a_x\");ylabel!(L\"\\textrm{phase}(\\psi)\")\n    p = plot(p1,p2,layout=(2,1),size=(600,400))\n    return p\nend"
      ],
      "metadata": {},
      "execution_count": null
    },
    {
      "cell_type": "markdown",
      "source": [
        "# User parameters\nWe reserve a place for user parameters."
      ],
      "metadata": {}
    },
    {
      "outputs": [],
      "cell_type": "code",
      "source": [
        "@with_kw mutable struct Params <: UserParams @deftype Float64\n    # user parameters:\n    κ = 0.1\nend\npar = Params();"
      ],
      "metadata": {},
      "execution_count": null
    },
    {
      "cell_type": "markdown",
      "source": [
        "Let's set the system size, and number of spatial points"
      ],
      "metadata": {}
    },
    {
      "outputs": [],
      "cell_type": "code",
      "source": [
        "L = (40.0,)\nN = (512,)\nμ = 25.0"
      ],
      "metadata": {},
      "execution_count": null
    },
    {
      "cell_type": "markdown",
      "source": [
        "Now we need to initialize the simulation object and the transforms"
      ],
      "metadata": {}
    },
    {
      "outputs": [],
      "cell_type": "code",
      "source": [
        "sim = Sim(L,N,par)\n@pack! sim = μ\n@unpack_Sim sim;"
      ],
      "metadata": {},
      "execution_count": null
    },
    {
      "cell_type": "markdown",
      "source": [
        "## Declaring the potential\nLet's define the trapping potential."
      ],
      "metadata": {}
    },
    {
      "outputs": [],
      "cell_type": "code",
      "source": [
        "import FourierGPE.V\nV(x,t) = 0.5*x^2"
      ],
      "metadata": {},
      "execution_count": null
    },
    {
      "cell_type": "markdown",
      "source": [
        "We only require that it is a scalar function\nbecause alter we will evaluate it using a broadcasted dot-call.\n\n# Initial condition\nLet's define a useful Thomas-Fermi wavefunction"
      ],
      "metadata": {}
    },
    {
      "outputs": [],
      "cell_type": "code",
      "source": [
        "ψ0(x,μ,g) = sqrt(μ/g)*sqrt(max(1.0-V(x,0.0)/μ,0.0)+im*0.0)\nx = X[1];"
      ],
      "metadata": {},
      "execution_count": null
    },
    {
      "cell_type": "markdown",
      "source": [
        "The initial state is now created as"
      ],
      "metadata": {}
    },
    {
      "outputs": [],
      "cell_type": "code",
      "source": [
        "ψi = ψ0.(x,μ,g)\nϕi = kspace(ψi,sim)\n@pack! sim = ϕi;"
      ],
      "metadata": {},
      "execution_count": null
    },
    {
      "cell_type": "markdown",
      "source": [
        "# Evolution in k-space\nThe `FFTW` library is used to evolve the Gross-Pitaevskii equation in k-space"
      ],
      "metadata": {}
    },
    {
      "outputs": [],
      "cell_type": "code",
      "source": [
        "sol = runsim(sim);"
      ],
      "metadata": {},
      "execution_count": null
    },
    {
      "cell_type": "markdown",
      "source": [
        "Here we save the entire solution as a single variable `sol`.\n\nLet's have a look at the final state and verify we have a ground state"
      ],
      "metadata": {}
    },
    {
      "outputs": [],
      "cell_type": "code",
      "source": [
        "ϕg = sol[end]\nψg = xspace(ϕg,sim)\nplot(x,g*abs2.(ψg),fill=(0,0.2),size=(600,200))\nplot!(x,one.(x)*μ)\nplot!(x,V.(x,0.0))\nxlims!(-10,10); ylims!(0,1.3*μ)\ntitle!(L\"\\textrm{local}\\; \\mu(x)\")\nxlabel!(L\"x/a_x\"); ylabel!(L\"\\mu(x)/\\hbar\\omega_x\")"
      ],
      "metadata": {},
      "execution_count": null
    },
    {
      "cell_type": "markdown",
      "source": [
        "The initial Thomas-Fermi state has been evolved for a default time $t=2/\\gamma$ which is\na characteristic damping time for the dissipative system with dimensionless damping\n$\\gamma$. The solution will approch the ground state satisfying $L\\psi_0=\\mu\\psi_0$ on a timescale of order\n$1/\\gamma$. The figure shows a smooth density profile and a completely homogeneous phase\nprofile over the region of finite atomic density, as required for the ground state. The indeterminate\nphase evident at large $|x|$ is unimportant.\n\n## Default simulation parameters\nThe default parameters are given in the declaration of `Sim`, which allows parameter interdependence.\nThe struct `Sim` is declared as:"
      ],
      "metadata": {}
    },
    {
      "outputs": [],
      "cell_type": "code",
      "source": [
        "@with_kw mutable struct Sim{D} <: Simulation{D} @deftype Float64\n    L::NTuple{D,Float64}\n    N::NTuple{D,Int64}\n    μ = 15.0\n    g = 0.1\n    γ = 0.5; @assert γ >= 0.0\n    ti = 0.0\n    tf = 2/γ\n    Nt::Int64 = 200\n    t::LinRange{Float64} = LinRange(ti,tf,Nt)\n    ϕi::Array{Complex{Float64},D} = zeros(N...) |> complex\n    alg::OrdinaryDiffEq.OrdinaryDiffEqAdaptiveAlgorithm = Tsit5()\n    reltol::Float64 = 1e-6\n    params::UserParams # optional parameters\n    X::NTuple{D,Array{Float64,1}} = xvecs(L,N)\n    K::NTuple{D,Array{Float64,1}} = kvecs(L,N)\n    espec::Array{Complex{Float64},D} = 0.5*k2(L,N)\n    flags::UInt32 = FFTW.MEASURE\n    T::TransformLibrary = makeT(X,K;flags=flags)\nend"
      ],
      "metadata": {},
      "execution_count": null
    },
    {
      "cell_type": "markdown",
      "source": [
        "where we see a set of default parameters, and then some useful transform fields built using the parameters.\nNote that the transforms have to be built after building `X,K`.\n\n# Dark soliton in harmonically trapped system\nWe found a ground state by imaginary time propagation.\nNow we can impose a phase and density imprint consistent with a dark soliton.\nWe will use the solution for the homogeneous system, which will be a reasonable\napproximation if we impose it on a smooth background solution.\n\n## Imprinting a dark soliton"
      ],
      "metadata": {}
    },
    {
      "outputs": [],
      "cell_type": "code",
      "source": [
        "ψf = xspace(sol[end],sim)\nc = sqrt(μ)\nξ = 1/c\nv = 0.5*c\nxs = 0.\nf = sqrt(1-(v/c)^2)"
      ],
      "metadata": {},
      "execution_count": null
    },
    {
      "cell_type": "markdown",
      "source": [
        "Soliton speed is determined by depth and local healing length. Start at $xs=0.0$"
      ],
      "metadata": {}
    },
    {
      "outputs": [],
      "cell_type": "code",
      "source": [
        "ψs = ψf.*(f*tanh.(f*(x .-xs)/ξ).+im*v/c);\nshowpsi(x,ψs)\nxlims!(-10,10)"
      ],
      "metadata": {},
      "execution_count": null
    },
    {
      "cell_type": "markdown",
      "source": [
        "## Initilize Simulation\nWe can recycle our earlier parameter choices, modifying the damping and simulation timescale"
      ],
      "metadata": {}
    },
    {
      "outputs": [],
      "cell_type": "code",
      "source": [
        "γ = 0.0\ntf = 8*pi/sqrt(2); t = LinRange(ti,tf,Nt)\ndt = 0.01π/μ\nsimSoliton = Sim(sim;γ=γ,tf=tf,t=t)\nϕi = kspace(ψs,simSoliton)\n@pack! simSoliton = ϕi\n@unpack_Sim simSoliton;"
      ],
      "metadata": {},
      "execution_count": null
    },
    {
      "cell_type": "markdown",
      "source": [
        "In doing so, we have to specify the dimension of the simulation in this case (an improved constructor needed).\n\n## Solve equation of motion\nAs before, we specify the initial condition in momentum space, and evolve"
      ],
      "metadata": {}
    },
    {
      "outputs": [],
      "cell_type": "code",
      "source": [
        "sols = runsim(simSoliton);"
      ],
      "metadata": {},
      "execution_count": null
    },
    {
      "cell_type": "markdown",
      "source": [
        "## View the solution using Plots\nPlots allows easy creation of an animated gif, as in the runnable example code below."
      ],
      "metadata": {}
    },
    {
      "outputs": [],
      "cell_type": "code",
      "source": [
        "ϕf = sols[end-4]\nψf = xspace(ϕf,simSoliton)\nshowpsi(x,ψf)\n\nanim = @animate for i in 1:length(t)-4\n    ψ = xspace(sols[i],simSoliton)\n    y = g*abs2.(ψ)\n    plot(x,y,fill=(0,0.2),size=(600,300),grid=false)\n    xlims!(-10,10); ylims!(0,1.3*μ)\n    title!(L\"\\textrm{local}\\; \\mu(x)\")\n    xlabel!(L\"x/a_x\"); ylabel!(L\"\\mu(x)/\\hbar\\omega_x\")\nend\n\ngif(anim,\"./examples/soliton.gif\",fps=30)"
      ],
      "metadata": {},
      "execution_count": null
    },
    {
      "cell_type": "markdown",
      "source": [
        "Here we just plot the final state"
      ],
      "metadata": {}
    },
    {
      "outputs": [],
      "cell_type": "code",
      "source": [
        "ψ = xspace(sols[end],simSoliton)\ny = g*abs2.(ψ)\nplot(x,y,fill=(0,0.2),size=(600,300),grid=false)\nxlims!(-10,10); ylims!(0,1.3*μ)\ntitle!(L\"\\textrm{local}\\; \\mu(x)\")\nxlabel!(L\"x/a_x\"); ylabel!(L\"\\mu(x)/\\hbar\\omega_x\")"
      ],
      "metadata": {},
      "execution_count": null
    }
  ],
  "nbformat_minor": 2,
  "metadata": {
    "language_info": {
      "file_extension": ".jl",
      "mimetype": "application/julia",
      "name": "julia",
      "version": "1.1.0"
    },
    "kernelspec": {
      "name": "julia-1.1",
      "display_name": "Julia 1.1.0",
      "language": "julia"
    }
  },
  "nbformat": 4
}
